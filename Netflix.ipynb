{
  "cells": [
    {
      "cell_type": "code",
      "execution_count": 5,
      "metadata": {},
      "outputs": [
        {
          "name": "stdout",
          "output_type": "stream",
          "text": [
            "Collecting scikit-learn\n",
            "  Downloading scikit_learn-1.2.2-cp311-cp311-win_amd64.whl (8.3 MB)\n",
            "                                              0.0/8.3 MB ? eta -:--:--\n",
            "                                              0.0/8.3 MB 1.4 MB/s eta 0:00:07\n",
            "                                              0.1/8.3 MB 1.1 MB/s eta 0:00:08\n",
            "                                              0.2/8.3 MB 1.5 MB/s eta 0:00:06\n",
            "     -                                        0.3/8.3 MB 1.6 MB/s eta 0:00:05\n",
            "     --                                       0.5/8.3 MB 2.2 MB/s eta 0:00:04\n",
            "     ---                                      0.8/8.3 MB 2.8 MB/s eta 0:00:03\n",
            "     -----                                    1.1/8.3 MB 3.3 MB/s eta 0:00:03\n",
            "     ------                                   1.4/8.3 MB 3.7 MB/s eta 0:00:02\n",
            "     --------                                 1.7/8.3 MB 4.0 MB/s eta 0:00:02\n",
            "     ---------                                2.0/8.3 MB 4.3 MB/s eta 0:00:02\n",
            "     -----------                              2.3/8.3 MB 4.5 MB/s eta 0:00:02\n",
            "     ------------                             2.6/8.3 MB 4.8 MB/s eta 0:00:02\n",
            "     --------------                           2.9/8.3 MB 4.9 MB/s eta 0:00:02\n",
            "     ---------------                          3.3/8.3 MB 5.1 MB/s eta 0:00:01\n",
            "     -----------------                        3.6/8.3 MB 5.2 MB/s eta 0:00:01\n",
            "     ------------------                       3.9/8.3 MB 5.2 MB/s eta 0:00:01\n",
            "     --------------------                     4.1/8.3 MB 5.3 MB/s eta 0:00:01\n",
            "     ---------------------                    4.5/8.3 MB 5.4 MB/s eta 0:00:01\n",
            "     -----------------------                  4.8/8.3 MB 5.4 MB/s eta 0:00:01\n",
            "     ------------------------                 5.1/8.3 MB 5.5 MB/s eta 0:00:01\n",
            "     --------------------------               5.4/8.3 MB 5.5 MB/s eta 0:00:01\n",
            "     ---------------------------              5.7/8.3 MB 5.6 MB/s eta 0:00:01\n",
            "     -----------------------------            6.0/8.3 MB 5.6 MB/s eta 0:00:01\n",
            "     ------------------------------           6.3/8.3 MB 5.7 MB/s eta 0:00:01\n",
            "     --------------------------------         6.6/8.3 MB 5.7 MB/s eta 0:00:01\n",
            "     ---------------------------------        6.9/8.3 MB 5.7 MB/s eta 0:00:01\n",
            "     ----------------------------------       7.2/8.3 MB 5.8 MB/s eta 0:00:01\n",
            "     ------------------------------------     7.5/8.3 MB 5.8 MB/s eta 0:00:01\n",
            "     -------------------------------------    7.8/8.3 MB 5.8 MB/s eta 0:00:01\n",
            "     ---------------------------------------  8.2/8.3 MB 5.9 MB/s eta 0:00:01\n",
            "     ---------------------------------------  8.3/8.3 MB 5.9 MB/s eta 0:00:01\n",
            "     ---------------------------------------- 8.3/8.3 MB 5.6 MB/s eta 0:00:00\n",
            "Requirement already satisfied: numpy>=1.17.3 in c:\\users\\admin\\lib\\site-packages (from scikit-learn) (1.24.2)\n",
            "Collecting scipy>=1.3.2 (from scikit-learn)\n",
            "  Downloading scipy-1.10.1-cp311-cp311-win_amd64.whl (42.2 MB)\n",
            "                                              0.0/42.2 MB ? eta -:--:--\n",
            "                                              0.3/42.2 MB 7.9 MB/s eta 0:00:06\n",
            "                                              0.6/42.2 MB 7.0 MB/s eta 0:00:06\n",
            "                                              0.8/42.2 MB 6.6 MB/s eta 0:00:07\n",
            "     -                                        1.2/42.2 MB 6.7 MB/s eta 0:00:07\n",
            "     -                                        1.5/42.2 MB 6.6 MB/s eta 0:00:07\n",
            "     -                                        1.8/42.2 MB 6.7 MB/s eta 0:00:07\n",
            "     -                                        2.1/42.2 MB 6.7 MB/s eta 0:00:07\n",
            "     --                                       2.4/42.2 MB 6.6 MB/s eta 0:00:07\n",
            "     --                                       2.7/42.2 MB 6.6 MB/s eta 0:00:06\n",
            "     --                                       3.0/42.2 MB 6.6 MB/s eta 0:00:06\n",
            "     ---                                      3.3/42.2 MB 6.6 MB/s eta 0:00:06\n",
            "     ---                                      3.6/42.2 MB 6.6 MB/s eta 0:00:06\n",
            "     ---                                      3.9/42.2 MB 6.6 MB/s eta 0:00:06\n",
            "     ---                                      4.2/42.2 MB 6.6 MB/s eta 0:00:06\n",
            "     ----                                     4.5/42.2 MB 6.7 MB/s eta 0:00:06\n",
            "     ----                                     4.8/42.2 MB 6.6 MB/s eta 0:00:06\n",
            "     ----                                     5.1/42.2 MB 6.7 MB/s eta 0:00:06\n",
            "     -----                                    5.4/42.2 MB 6.7 MB/s eta 0:00:06\n",
            "     -----                                    5.7/42.2 MB 6.7 MB/s eta 0:00:06\n",
            "     -----                                    6.0/42.2 MB 6.6 MB/s eta 0:00:06\n",
            "     ------                                   6.3/42.2 MB 6.6 MB/s eta 0:00:06\n",
            "     ------                                   6.6/42.2 MB 6.6 MB/s eta 0:00:06\n",
            "     ------                                   6.9/42.2 MB 6.6 MB/s eta 0:00:06\n",
            "     ------                                   7.3/42.2 MB 6.6 MB/s eta 0:00:06\n",
            "     -------                                  7.6/42.2 MB 6.6 MB/s eta 0:00:06\n",
            "     -------                                  7.9/42.2 MB 6.6 MB/s eta 0:00:06\n",
            "     -------                                  8.2/42.2 MB 6.6 MB/s eta 0:00:06\n",
            "     --------                                 8.5/42.2 MB 6.6 MB/s eta 0:00:06\n",
            "     --------                                 8.8/42.2 MB 6.6 MB/s eta 0:00:06\n",
            "     --------                                 9.1/42.2 MB 6.6 MB/s eta 0:00:06\n",
            "     --------                                 9.4/42.2 MB 6.6 MB/s eta 0:00:05\n",
            "     ---------                                9.7/42.2 MB 6.6 MB/s eta 0:00:05\n",
            "     ---------                                10.0/42.2 MB 6.6 MB/s eta 0:00:05\n",
            "     ---------                                10.3/42.2 MB 6.5 MB/s eta 0:00:05\n",
            "     ----------                               10.6/42.2 MB 6.6 MB/s eta 0:00:05\n",
            "     ----------                               10.9/42.2 MB 6.6 MB/s eta 0:00:05\n",
            "     ----------                               11.2/42.2 MB 6.6 MB/s eta 0:00:05\n",
            "     ----------                               11.6/42.2 MB 6.6 MB/s eta 0:00:05\n",
            "     -----------                              11.9/42.2 MB 6.6 MB/s eta 0:00:05\n",
            "     -----------                              12.2/42.2 MB 6.6 MB/s eta 0:00:05\n",
            "     -----------                              12.5/42.2 MB 6.5 MB/s eta 0:00:05\n",
            "     ------------                             12.8/42.2 MB 6.5 MB/s eta 0:00:05\n",
            "     ------------                             13.1/42.2 MB 6.5 MB/s eta 0:00:05\n",
            "     ------------                             13.4/42.2 MB 6.5 MB/s eta 0:00:05\n",
            "     ------------                             13.6/42.2 MB 6.5 MB/s eta 0:00:05\n",
            "     -------------                            13.9/42.2 MB 6.5 MB/s eta 0:00:05\n",
            "     -------------                            14.2/42.2 MB 6.5 MB/s eta 0:00:05\n",
            "     -------------                            14.6/42.2 MB 6.5 MB/s eta 0:00:05\n",
            "     --------------                           14.9/42.2 MB 6.6 MB/s eta 0:00:05\n",
            "     --------------                           15.2/42.2 MB 6.5 MB/s eta 0:00:05\n",
            "     --------------                           15.5/42.2 MB 6.5 MB/s eta 0:00:05\n",
            "     --------------                           15.8/42.2 MB 6.5 MB/s eta 0:00:05\n",
            "     ---------------                          16.1/42.2 MB 6.5 MB/s eta 0:00:04\n",
            "     ---------------                          16.4/42.2 MB 6.5 MB/s eta 0:00:04\n",
            "     ---------------                          16.7/42.2 MB 6.5 MB/s eta 0:00:04\n",
            "     ----------------                         17.0/42.2 MB 6.5 MB/s eta 0:00:04\n",
            "     ----------------                         17.3/42.2 MB 6.5 MB/s eta 0:00:04\n",
            "     ----------------                         17.6/42.2 MB 6.5 MB/s eta 0:00:04\n",
            "     ----------------                         17.9/42.2 MB 6.5 MB/s eta 0:00:04\n",
            "     -----------------                        18.2/42.2 MB 6.5 MB/s eta 0:00:04\n",
            "     -----------------                        18.5/42.2 MB 6.5 MB/s eta 0:00:04\n",
            "     -----------------                        18.8/42.2 MB 6.5 MB/s eta 0:00:04\n",
            "     ------------------                       19.1/42.2 MB 6.5 MB/s eta 0:00:04\n",
            "     ------------------                       19.4/42.2 MB 6.5 MB/s eta 0:00:04\n",
            "     ------------------                       19.7/42.2 MB 6.5 MB/s eta 0:00:04\n",
            "     ------------------                       20.0/42.2 MB 6.5 MB/s eta 0:00:04\n",
            "     -------------------                      20.4/42.2 MB 6.5 MB/s eta 0:00:04\n",
            "     -------------------                      20.7/42.2 MB 6.5 MB/s eta 0:00:04\n",
            "     -------------------                      21.0/42.2 MB 6.5 MB/s eta 0:00:04\n",
            "     --------------------                     21.3/42.2 MB 6.5 MB/s eta 0:00:04\n",
            "     --------------------                     21.6/42.2 MB 6.5 MB/s eta 0:00:04\n",
            "     --------------------                     21.9/42.2 MB 6.5 MB/s eta 0:00:04\n",
            "     ---------------------                    22.2/42.2 MB 6.5 MB/s eta 0:00:04\n",
            "     ---------------------                    22.5/42.2 MB 6.5 MB/s eta 0:00:04\n",
            "     ---------------------                    22.8/42.2 MB 6.5 MB/s eta 0:00:03\n",
            "     ---------------------                    23.1/42.2 MB 6.5 MB/s eta 0:00:03\n",
            "     ----------------------                   23.4/42.2 MB 6.5 MB/s eta 0:00:03\n",
            "     ----------------------                   23.7/42.2 MB 6.5 MB/s eta 0:00:03\n",
            "     ----------------------                   24.0/42.2 MB 6.5 MB/s eta 0:00:03\n",
            "     -----------------------                  24.3/42.2 MB 6.5 MB/s eta 0:00:03\n",
            "     -----------------------                  24.6/42.2 MB 6.6 MB/s eta 0:00:03\n",
            "     -----------------------                  24.9/42.2 MB 6.6 MB/s eta 0:00:03\n",
            "     -----------------------                  25.2/42.2 MB 6.6 MB/s eta 0:00:03\n",
            "     ------------------------                 25.5/42.2 MB 6.6 MB/s eta 0:00:03\n",
            "     ------------------------                 25.8/42.2 MB 6.6 MB/s eta 0:00:03\n",
            "     ------------------------                 26.1/42.2 MB 6.6 MB/s eta 0:00:03\n",
            "     -------------------------                26.4/42.2 MB 6.6 MB/s eta 0:00:03\n",
            "     -------------------------                26.8/42.2 MB 6.6 MB/s eta 0:00:03\n",
            "     -------------------------                27.1/42.2 MB 6.6 MB/s eta 0:00:03\n",
            "     -------------------------                27.4/42.2 MB 6.6 MB/s eta 0:00:03\n",
            "     --------------------------               27.7/42.2 MB 6.6 MB/s eta 0:00:03\n",
            "     --------------------------               28.0/42.2 MB 6.6 MB/s eta 0:00:03\n",
            "     --------------------------               28.3/42.2 MB 6.6 MB/s eta 0:00:03\n",
            "     ---------------------------              28.6/42.2 MB 6.5 MB/s eta 0:00:03\n",
            "     ---------------------------              28.9/42.2 MB 6.5 MB/s eta 0:00:03\n",
            "     ---------------------------              29.2/42.2 MB 6.5 MB/s eta 0:00:02\n",
            "     ---------------------------              29.5/42.2 MB 6.5 MB/s eta 0:00:02\n",
            "     ----------------------------             29.8/42.2 MB 6.5 MB/s eta 0:00:02\n",
            "     ----------------------------             30.1/42.2 MB 6.5 MB/s eta 0:00:02\n",
            "     ----------------------------             30.4/42.2 MB 6.5 MB/s eta 0:00:02\n",
            "     -----------------------------            30.7/42.2 MB 6.5 MB/s eta 0:00:02\n",
            "     -----------------------------            31.0/42.2 MB 6.5 MB/s eta 0:00:02\n",
            "     -----------------------------            31.3/42.2 MB 6.5 MB/s eta 0:00:02\n",
            "     -----------------------------            31.6/42.2 MB 6.5 MB/s eta 0:00:02\n",
            "     ------------------------------           31.9/42.2 MB 6.5 MB/s eta 0:00:02\n",
            "     ------------------------------           32.2/42.2 MB 6.5 MB/s eta 0:00:02\n",
            "     ------------------------------           32.6/42.2 MB 6.5 MB/s eta 0:00:02\n",
            "     -------------------------------          32.9/42.2 MB 6.5 MB/s eta 0:00:02\n",
            "     -------------------------------          33.2/42.2 MB 6.5 MB/s eta 0:00:02\n",
            "     -------------------------------          33.5/42.2 MB 6.6 MB/s eta 0:00:02\n",
            "     -------------------------------          33.8/42.2 MB 6.6 MB/s eta 0:00:02\n",
            "     --------------------------------         34.1/42.2 MB 6.6 MB/s eta 0:00:02\n",
            "     --------------------------------         34.4/42.2 MB 6.6 MB/s eta 0:00:02\n",
            "     --------------------------------         34.7/42.2 MB 6.6 MB/s eta 0:00:02\n",
            "     ---------------------------------        35.0/42.2 MB 6.6 MB/s eta 0:00:02\n",
            "     ---------------------------------        35.3/42.2 MB 6.6 MB/s eta 0:00:02\n",
            "     ---------------------------------        35.6/42.2 MB 6.6 MB/s eta 0:00:02\n",
            "     ----------------------------------       35.9/42.2 MB 6.6 MB/s eta 0:00:01\n",
            "     ----------------------------------       36.2/42.2 MB 6.6 MB/s eta 0:00:01\n",
            "     ----------------------------------       36.5/42.2 MB 6.6 MB/s eta 0:00:01\n",
            "     ----------------------------------       36.8/42.2 MB 6.6 MB/s eta 0:00:01\n",
            "     -----------------------------------      37.1/42.2 MB 6.6 MB/s eta 0:00:01\n",
            "     -----------------------------------      37.4/42.2 MB 6.6 MB/s eta 0:00:01\n",
            "     -----------------------------------      37.7/42.2 MB 6.6 MB/s eta 0:00:01\n",
            "     ------------------------------------     38.1/42.2 MB 6.6 MB/s eta 0:00:01\n",
            "     ------------------------------------     38.3/42.2 MB 6.6 MB/s eta 0:00:01\n",
            "     ------------------------------------     38.6/42.2 MB 6.5 MB/s eta 0:00:01\n",
            "     ------------------------------------     39.0/42.2 MB 6.5 MB/s eta 0:00:01\n",
            "     -------------------------------------    39.3/42.2 MB 6.5 MB/s eta 0:00:01\n",
            "     -------------------------------------    39.6/42.2 MB 6.6 MB/s eta 0:00:01\n",
            "     -------------------------------------    39.9/42.2 MB 6.5 MB/s eta 0:00:01\n",
            "     --------------------------------------   40.2/42.2 MB 6.6 MB/s eta 0:00:01\n",
            "     --------------------------------------   40.5/42.2 MB 6.6 MB/s eta 0:00:01\n",
            "     --------------------------------------   40.8/42.2 MB 6.6 MB/s eta 0:00:01\n",
            "     --------------------------------------   41.1/42.2 MB 6.6 MB/s eta 0:00:01\n",
            "     ---------------------------------------  41.4/42.2 MB 6.6 MB/s eta 0:00:01\n",
            "     ---------------------------------------  41.7/42.2 MB 6.6 MB/s eta 0:00:01\n",
            "     ---------------------------------------  42.0/42.2 MB 6.6 MB/s eta 0:00:01\n",
            "     ---------------------------------------  42.2/42.2 MB 6.6 MB/s eta 0:00:01\n",
            "     ---------------------------------------  42.2/42.2 MB 6.6 MB/s eta 0:00:01\n",
            "     ---------------------------------------  42.2/42.2 MB 6.6 MB/s eta 0:00:01\n",
            "     ---------------------------------------  42.2/42.2 MB 6.6 MB/s eta 0:00:01\n",
            "     ---------------------------------------  42.2/42.2 MB 6.6 MB/s eta 0:00:01\n",
            "     ---------------------------------------  42.2/42.2 MB 6.6 MB/s eta 0:00:01\n",
            "     ---------------------------------------  42.2/42.2 MB 6.6 MB/s eta 0:00:01\n",
            "     ---------------------------------------  42.2/42.2 MB 6.6 MB/s eta 0:00:01\n",
            "     ---------------------------------------  42.2/42.2 MB 6.6 MB/s eta 0:00:01\n",
            "     ---------------------------------------  42.2/42.2 MB 6.6 MB/s eta 0:00:01\n",
            "     ---------------------------------------  42.2/42.2 MB 6.6 MB/s eta 0:00:01\n",
            "     ---------------------------------------  42.2/42.2 MB 6.6 MB/s eta 0:00:01\n",
            "     ---------------------------------------  42.2/42.2 MB 6.6 MB/s eta 0:00:01\n",
            "     ---------------------------------------  42.2/42.2 MB 6.6 MB/s eta 0:00:01\n",
            "     ---------------------------------------  42.2/42.2 MB 6.6 MB/s eta 0:00:01\n",
            "     ---------------------------------------  42.2/42.2 MB 6.6 MB/s eta 0:00:01\n",
            "     ---------------------------------------  42.2/42.2 MB 6.6 MB/s eta 0:00:01\n",
            "     ---------------------------------------  42.2/42.2 MB 6.6 MB/s eta 0:00:01\n",
            "     ---------------------------------------  42.2/42.2 MB 6.6 MB/s eta 0:00:01\n",
            "     ---------------------------------------- 42.2/42.2 MB 4.2 MB/s eta 0:00:00\n",
            "Collecting joblib>=1.1.1 (from scikit-learn)\n",
            "  Downloading joblib-1.2.0-py3-none-any.whl (297 kB)\n",
            "                                              0.0/298.0 kB ? eta -:--:--\n",
            "     -------------------------------------  297.0/298.0 kB 6.1 MB/s eta 0:00:01\n",
            "     -------------------------------------- 298.0/298.0 kB 6.1 MB/s eta 0:00:00\n",
            "Collecting threadpoolctl>=2.0.0 (from scikit-learn)\n",
            "  Downloading threadpoolctl-3.1.0-py3-none-any.whl (14 kB)\n",
            "Installing collected packages: threadpoolctl, scipy, joblib, scikit-learn\n",
            "Successfully installed joblib-1.2.0 scikit-learn-1.2.2 scipy-1.10.1 threadpoolctl-3.1.0\n",
            "Note: you may need to restart the kernel to use updated packages.\n"
          ]
        }
      ],
      "source": [
        "pip install -U scikit-learn"
      ]
    },
    {
      "cell_type": "code",
      "execution_count": 6,
      "metadata": {
        "id": "QZd5RxicNChM"
      },
      "outputs": [],
      "source": [
        "import numpy as np\n",
        "import pandas as pd\n",
        "import matplotlib.pyplot as plt\n",
        "import seaborn as sns\n",
        "from sklearn.model_selection import train_test_split\n",
        "from sklearn.preprocessing import LabelEncoder\n",
        "from sklearn.metrics import accuracy_score, confusion_matrix, classification_report\n",
        "%matplotlib inline\n"
      ]
    },
    {
      "cell_type": "code",
      "execution_count": 21,
      "metadata": {
        "id": "CUxUMlGZNYNS"
      },
      "outputs": [],
      "source": [
        "data = pd.read_csv('E:/Data Analyst/Dataset/New folder/netflix_titles.csv')"
      ]
    },
    {
      "cell_type": "code",
      "execution_count": 22,
      "metadata": {
        "colab": {
          "base_uri": "https://localhost:8080/",
          "height": 337
        },
        "id": "rreU54yUNtBj",
        "outputId": "fb5c0095-8ab7-473a-e772-60696eafc34d"
      },
      "outputs": [
        {
          "data": {
            "text/html": [
              "<div>\n",
              "<style scoped>\n",
              "    .dataframe tbody tr th:only-of-type {\n",
              "        vertical-align: middle;\n",
              "    }\n",
              "\n",
              "    .dataframe tbody tr th {\n",
              "        vertical-align: top;\n",
              "    }\n",
              "\n",
              "    .dataframe thead th {\n",
              "        text-align: right;\n",
              "    }\n",
              "</style>\n",
              "<table border=\"1\" class=\"dataframe\">\n",
              "  <thead>\n",
              "    <tr style=\"text-align: right;\">\n",
              "      <th></th>\n",
              "      <th>show_id</th>\n",
              "      <th>type</th>\n",
              "      <th>title</th>\n",
              "      <th>director</th>\n",
              "      <th>cast</th>\n",
              "      <th>country</th>\n",
              "      <th>date_added</th>\n",
              "      <th>release_year</th>\n",
              "      <th>rating</th>\n",
              "      <th>duration</th>\n",
              "      <th>listed_in</th>\n",
              "      <th>description</th>\n",
              "    </tr>\n",
              "  </thead>\n",
              "  <tbody>\n",
              "    <tr>\n",
              "      <th>0</th>\n",
              "      <td>s1</td>\n",
              "      <td>Movie</td>\n",
              "      <td>Dick Johnson Is Dead</td>\n",
              "      <td>Kirsten Johnson</td>\n",
              "      <td>NaN</td>\n",
              "      <td>United States</td>\n",
              "      <td>September 25, 2021</td>\n",
              "      <td>2020</td>\n",
              "      <td>PG-13</td>\n",
              "      <td>90 min</td>\n",
              "      <td>Documentaries</td>\n",
              "      <td>As her father nears the end of his life, filmm...</td>\n",
              "    </tr>\n",
              "    <tr>\n",
              "      <th>1</th>\n",
              "      <td>s2</td>\n",
              "      <td>TV Show</td>\n",
              "      <td>Blood &amp; Water</td>\n",
              "      <td>NaN</td>\n",
              "      <td>Ama Qamata, Khosi Ngema, Gail Mabalane, Thaban...</td>\n",
              "      <td>South Africa</td>\n",
              "      <td>September 24, 2021</td>\n",
              "      <td>2021</td>\n",
              "      <td>TV-MA</td>\n",
              "      <td>2 Seasons</td>\n",
              "      <td>International TV Shows, TV Dramas, TV Mysteries</td>\n",
              "      <td>After crossing paths at a party, a Cape Town t...</td>\n",
              "    </tr>\n",
              "    <tr>\n",
              "      <th>2</th>\n",
              "      <td>s3</td>\n",
              "      <td>TV Show</td>\n",
              "      <td>Ganglands</td>\n",
              "      <td>Julien Leclercq</td>\n",
              "      <td>Sami Bouajila, Tracy Gotoas, Samuel Jouy, Nabi...</td>\n",
              "      <td>NaN</td>\n",
              "      <td>September 24, 2021</td>\n",
              "      <td>2021</td>\n",
              "      <td>TV-MA</td>\n",
              "      <td>1 Season</td>\n",
              "      <td>Crime TV Shows, International TV Shows, TV Act...</td>\n",
              "      <td>To protect his family from a powerful drug lor...</td>\n",
              "    </tr>\n",
              "    <tr>\n",
              "      <th>3</th>\n",
              "      <td>s4</td>\n",
              "      <td>TV Show</td>\n",
              "      <td>Jailbirds New Orleans</td>\n",
              "      <td>NaN</td>\n",
              "      <td>NaN</td>\n",
              "      <td>NaN</td>\n",
              "      <td>September 24, 2021</td>\n",
              "      <td>2021</td>\n",
              "      <td>TV-MA</td>\n",
              "      <td>1 Season</td>\n",
              "      <td>Docuseries, Reality TV</td>\n",
              "      <td>Feuds, flirtations and toilet talk go down amo...</td>\n",
              "    </tr>\n",
              "    <tr>\n",
              "      <th>4</th>\n",
              "      <td>s5</td>\n",
              "      <td>TV Show</td>\n",
              "      <td>Kota Factory</td>\n",
              "      <td>NaN</td>\n",
              "      <td>Mayur More, Jitendra Kumar, Ranjan Raj, Alam K...</td>\n",
              "      <td>India</td>\n",
              "      <td>September 24, 2021</td>\n",
              "      <td>2021</td>\n",
              "      <td>TV-MA</td>\n",
              "      <td>2 Seasons</td>\n",
              "      <td>International TV Shows, Romantic TV Shows, TV ...</td>\n",
              "      <td>In a city of coaching centers known to train I...</td>\n",
              "    </tr>\n",
              "  </tbody>\n",
              "</table>\n",
              "</div>"
            ],
            "text/plain": [
              "  show_id     type                  title         director  \\\n",
              "0      s1    Movie   Dick Johnson Is Dead  Kirsten Johnson   \n",
              "1      s2  TV Show          Blood & Water              NaN   \n",
              "2      s3  TV Show              Ganglands  Julien Leclercq   \n",
              "3      s4  TV Show  Jailbirds New Orleans              NaN   \n",
              "4      s5  TV Show           Kota Factory              NaN   \n",
              "\n",
              "                                                cast        country  \\\n",
              "0                                                NaN  United States   \n",
              "1  Ama Qamata, Khosi Ngema, Gail Mabalane, Thaban...   South Africa   \n",
              "2  Sami Bouajila, Tracy Gotoas, Samuel Jouy, Nabi...            NaN   \n",
              "3                                                NaN            NaN   \n",
              "4  Mayur More, Jitendra Kumar, Ranjan Raj, Alam K...          India   \n",
              "\n",
              "           date_added  release_year rating   duration  \\\n",
              "0  September 25, 2021          2020  PG-13     90 min   \n",
              "1  September 24, 2021          2021  TV-MA  2 Seasons   \n",
              "2  September 24, 2021          2021  TV-MA   1 Season   \n",
              "3  September 24, 2021          2021  TV-MA   1 Season   \n",
              "4  September 24, 2021          2021  TV-MA  2 Seasons   \n",
              "\n",
              "                                           listed_in  \\\n",
              "0                                      Documentaries   \n",
              "1    International TV Shows, TV Dramas, TV Mysteries   \n",
              "2  Crime TV Shows, International TV Shows, TV Act...   \n",
              "3                             Docuseries, Reality TV   \n",
              "4  International TV Shows, Romantic TV Shows, TV ...   \n",
              "\n",
              "                                         description  \n",
              "0  As her father nears the end of his life, filmm...  \n",
              "1  After crossing paths at a party, a Cape Town t...  \n",
              "2  To protect his family from a powerful drug lor...  \n",
              "3  Feuds, flirtations and toilet talk go down amo...  \n",
              "4  In a city of coaching centers known to train I...  "
            ]
          },
          "execution_count": 22,
          "metadata": {},
          "output_type": "execute_result"
        }
      ],
      "source": [
        "data.head()"
      ]
    },
    {
      "cell_type": "code",
      "execution_count": 23,
      "metadata": {
        "colab": {
          "base_uri": "https://localhost:8080/"
        },
        "id": "oryZfDYGBf5i",
        "outputId": "df7b19de-f21c-4bf7-c241-8d09d7d0b917"
      },
      "outputs": [
        {
          "name": "stdout",
          "output_type": "stream",
          "text": [
            "<class 'pandas.core.frame.DataFrame'>\n",
            "RangeIndex: 8807 entries, 0 to 8806\n",
            "Data columns (total 12 columns):\n",
            " #   Column        Non-Null Count  Dtype \n",
            "---  ------        --------------  ----- \n",
            " 0   show_id       8807 non-null   object\n",
            " 1   type          8807 non-null   object\n",
            " 2   title         8807 non-null   object\n",
            " 3   director      6173 non-null   object\n",
            " 4   cast          7982 non-null   object\n",
            " 5   country       7976 non-null   object\n",
            " 6   date_added    8797 non-null   object\n",
            " 7   release_year  8807 non-null   int64 \n",
            " 8   rating        8803 non-null   object\n",
            " 9   duration      8804 non-null   object\n",
            " 10  listed_in     8807 non-null   object\n",
            " 11  description   8807 non-null   object\n",
            "dtypes: int64(1), object(11)\n",
            "memory usage: 825.8+ KB\n"
          ]
        }
      ],
      "source": [
        "data.info()"
      ]
    },
    {
      "cell_type": "code",
      "execution_count": 24,
      "metadata": {
        "id": "FX7Kj9k2aeMP"
      },
      "outputs": [],
      "source": [
        "data = data.drop(columns = 'description',axis=1)"
      ]
    },
    {
      "cell_type": "code",
      "execution_count": 25,
      "metadata": {
        "colab": {
          "base_uri": "https://localhost:8080/"
        },
        "id": "N6RoCZ3cNYKp",
        "outputId": "e3a731ef-19b9-40e4-909b-7d5691ca83c6"
      },
      "outputs": [
        {
          "name": "stdout",
          "output_type": "stream",
          "text": [
            "<class 'pandas.core.frame.DataFrame'>\n",
            "RangeIndex: 8807 entries, 0 to 8806\n",
            "Data columns (total 11 columns):\n",
            " #   Column        Non-Null Count  Dtype \n",
            "---  ------        --------------  ----- \n",
            " 0   show_id       8807 non-null   object\n",
            " 1   type          8807 non-null   object\n",
            " 2   title         8807 non-null   object\n",
            " 3   director      6173 non-null   object\n",
            " 4   cast          7982 non-null   object\n",
            " 5   country       7976 non-null   object\n",
            " 6   date_added    8797 non-null   object\n",
            " 7   release_year  8807 non-null   int64 \n",
            " 8   rating        8803 non-null   object\n",
            " 9   duration      8804 non-null   object\n",
            " 10  listed_in     8807 non-null   object\n",
            "dtypes: int64(1), object(10)\n",
            "memory usage: 757.0+ KB\n"
          ]
        }
      ],
      "source": [
        "data.info()"
      ]
    },
    {
      "cell_type": "code",
      "execution_count": 26,
      "metadata": {
        "colab": {
          "base_uri": "https://localhost:8080/",
          "height": 49
        },
        "id": "LLknU6s7NYIB",
        "outputId": "a0066736-055d-49d3-a1fe-ccaf9150dbef"
      },
      "outputs": [
        {
          "data": {
            "text/html": [
              "<div>\n",
              "<style scoped>\n",
              "    .dataframe tbody tr th:only-of-type {\n",
              "        vertical-align: middle;\n",
              "    }\n",
              "\n",
              "    .dataframe tbody tr th {\n",
              "        vertical-align: top;\n",
              "    }\n",
              "\n",
              "    .dataframe thead th {\n",
              "        text-align: right;\n",
              "    }\n",
              "</style>\n",
              "<table border=\"1\" class=\"dataframe\">\n",
              "  <thead>\n",
              "    <tr style=\"text-align: right;\">\n",
              "      <th></th>\n",
              "      <th>show_id</th>\n",
              "      <th>type</th>\n",
              "      <th>title</th>\n",
              "      <th>director</th>\n",
              "      <th>cast</th>\n",
              "      <th>country</th>\n",
              "      <th>date_added</th>\n",
              "      <th>release_year</th>\n",
              "      <th>rating</th>\n",
              "      <th>duration</th>\n",
              "      <th>listed_in</th>\n",
              "    </tr>\n",
              "  </thead>\n",
              "  <tbody>\n",
              "  </tbody>\n",
              "</table>\n",
              "</div>"
            ],
            "text/plain": [
              "Empty DataFrame\n",
              "Columns: [show_id, type, title, director, cast, country, date_added, release_year, rating, duration, listed_in]\n",
              "Index: []"
            ]
          },
          "execution_count": 26,
          "metadata": {},
          "output_type": "execute_result"
        }
      ],
      "source": [
        "data[data.duplicated()]"
      ]
    },
    {
      "cell_type": "code",
      "execution_count": 27,
      "metadata": {
        "colab": {
          "base_uri": "https://localhost:8080/"
        },
        "id": "mvrEIAEwNYFT",
        "outputId": "0fb8233f-e31e-43a5-c131-1262a5714edb"
      },
      "outputs": [
        {
          "data": {
            "text/plain": [
              "show_id            0\n",
              "type               0\n",
              "title              0\n",
              "director        2634\n",
              "cast             825\n",
              "country          831\n",
              "date_added        10\n",
              "release_year       0\n",
              "rating             4\n",
              "duration           3\n",
              "listed_in          0\n",
              "dtype: int64"
            ]
          },
          "execution_count": 27,
          "metadata": {},
          "output_type": "execute_result"
        }
      ],
      "source": [
        "data.isnull().sum()\n"
      ]
    },
    {
      "cell_type": "code",
      "execution_count": 28,
      "metadata": {
        "id": "xLZFaMxmNYCi"
      },
      "outputs": [],
      "source": [
        "data['country'] = data['country'].fillna(data['country'].mode()[0])\n",
        "data['cast'].replace(np.nan, 'No Data',inplace  = True)\n",
        "data['director'].replace(np.nan, 'No Data',inplace  = True)\n",
        "data.dropna(inplace=True)"
      ]
    },
    {
      "cell_type": "code",
      "execution_count": 29,
      "metadata": {
        "colab": {
          "base_uri": "https://localhost:8080/"
        },
        "id": "iRBD2TUKNX_1",
        "outputId": "66e0ba05-6f6f-426d-a39e-513f283e28bf"
      },
      "outputs": [
        {
          "data": {
            "text/plain": [
              "show_id         0\n",
              "type            0\n",
              "title           0\n",
              "director        0\n",
              "cast            0\n",
              "country         0\n",
              "date_added      0\n",
              "release_year    0\n",
              "rating          0\n",
              "duration        0\n",
              "listed_in       0\n",
              "dtype: int64"
            ]
          },
          "execution_count": 29,
          "metadata": {},
          "output_type": "execute_result"
        }
      ],
      "source": [
        "data.isnull().sum()"
      ]
    },
    {
      "cell_type": "code",
      "execution_count": 30,
      "metadata": {
        "id": "M_8dCDYYPC7C"
      },
      "outputs": [],
      "source": [
        "data['date_added'] = pd.to_datetime(data['date_added'])\n",
        "data['year_added'] = data['date_added'].dt.year"
      ]
    },
    {
      "cell_type": "code",
      "execution_count": 31,
      "metadata": {
        "colab": {
          "base_uri": "https://localhost:8080/"
        },
        "id": "QzakRna7E4TD",
        "outputId": "ba1045e0-70ec-4521-b4e3-a8aa862d2837"
      },
      "outputs": [
        {
          "name": "stdout",
          "output_type": "stream",
          "text": [
            "<class 'pandas.core.frame.DataFrame'>\n",
            "Int64Index: 8790 entries, 0 to 8806\n",
            "Data columns (total 12 columns):\n",
            " #   Column        Non-Null Count  Dtype         \n",
            "---  ------        --------------  -----         \n",
            " 0   show_id       8790 non-null   object        \n",
            " 1   type          8790 non-null   object        \n",
            " 2   title         8790 non-null   object        \n",
            " 3   director      8790 non-null   object        \n",
            " 4   cast          8790 non-null   object        \n",
            " 5   country       8790 non-null   object        \n",
            " 6   date_added    8790 non-null   datetime64[ns]\n",
            " 7   release_year  8790 non-null   int64         \n",
            " 8   rating        8790 non-null   object        \n",
            " 9   duration      8790 non-null   object        \n",
            " 10  listed_in     8790 non-null   object        \n",
            " 11  year_added    8790 non-null   int64         \n",
            "dtypes: datetime64[ns](1), int64(2), object(9)\n",
            "memory usage: 892.7+ KB\n"
          ]
        }
      ],
      "source": [
        "data.info()"
      ]
    },
    {
      "cell_type": "code",
      "execution_count": 32,
      "metadata": {
        "colab": {
          "base_uri": "https://localhost:8080/",
          "height": 337
        },
        "id": "y9bwDyxKPG_J",
        "outputId": "caa926dc-b9e4-4062-efba-b607c9edd73b"
      },
      "outputs": [
        {
          "data": {
            "text/html": [
              "<div>\n",
              "<style scoped>\n",
              "    .dataframe tbody tr th:only-of-type {\n",
              "        vertical-align: middle;\n",
              "    }\n",
              "\n",
              "    .dataframe tbody tr th {\n",
              "        vertical-align: top;\n",
              "    }\n",
              "\n",
              "    .dataframe thead th {\n",
              "        text-align: right;\n",
              "    }\n",
              "</style>\n",
              "<table border=\"1\" class=\"dataframe\">\n",
              "  <thead>\n",
              "    <tr style=\"text-align: right;\">\n",
              "      <th></th>\n",
              "      <th>show_id</th>\n",
              "      <th>type</th>\n",
              "      <th>title</th>\n",
              "      <th>director</th>\n",
              "      <th>cast</th>\n",
              "      <th>country</th>\n",
              "      <th>date_added</th>\n",
              "      <th>release_year</th>\n",
              "      <th>rating</th>\n",
              "      <th>duration</th>\n",
              "      <th>listed_in</th>\n",
              "      <th>year_added</th>\n",
              "    </tr>\n",
              "  </thead>\n",
              "  <tbody>\n",
              "    <tr>\n",
              "      <th>0</th>\n",
              "      <td>s1</td>\n",
              "      <td>Movie</td>\n",
              "      <td>Dick Johnson Is Dead</td>\n",
              "      <td>Kirsten Johnson</td>\n",
              "      <td>No Data</td>\n",
              "      <td>United States</td>\n",
              "      <td>2021-09-25</td>\n",
              "      <td>2020</td>\n",
              "      <td>PG-13</td>\n",
              "      <td>90 min</td>\n",
              "      <td>Documentaries</td>\n",
              "      <td>2021</td>\n",
              "    </tr>\n",
              "    <tr>\n",
              "      <th>1</th>\n",
              "      <td>s2</td>\n",
              "      <td>TV Show</td>\n",
              "      <td>Blood &amp; Water</td>\n",
              "      <td>No Data</td>\n",
              "      <td>Ama Qamata, Khosi Ngema, Gail Mabalane, Thaban...</td>\n",
              "      <td>South Africa</td>\n",
              "      <td>2021-09-24</td>\n",
              "      <td>2021</td>\n",
              "      <td>TV-MA</td>\n",
              "      <td>2 Seasons</td>\n",
              "      <td>International TV Shows, TV Dramas, TV Mysteries</td>\n",
              "      <td>2021</td>\n",
              "    </tr>\n",
              "    <tr>\n",
              "      <th>2</th>\n",
              "      <td>s3</td>\n",
              "      <td>TV Show</td>\n",
              "      <td>Ganglands</td>\n",
              "      <td>Julien Leclercq</td>\n",
              "      <td>Sami Bouajila, Tracy Gotoas, Samuel Jouy, Nabi...</td>\n",
              "      <td>United States</td>\n",
              "      <td>2021-09-24</td>\n",
              "      <td>2021</td>\n",
              "      <td>TV-MA</td>\n",
              "      <td>1 Season</td>\n",
              "      <td>Crime TV Shows, International TV Shows, TV Act...</td>\n",
              "      <td>2021</td>\n",
              "    </tr>\n",
              "    <tr>\n",
              "      <th>3</th>\n",
              "      <td>s4</td>\n",
              "      <td>TV Show</td>\n",
              "      <td>Jailbirds New Orleans</td>\n",
              "      <td>No Data</td>\n",
              "      <td>No Data</td>\n",
              "      <td>United States</td>\n",
              "      <td>2021-09-24</td>\n",
              "      <td>2021</td>\n",
              "      <td>TV-MA</td>\n",
              "      <td>1 Season</td>\n",
              "      <td>Docuseries, Reality TV</td>\n",
              "      <td>2021</td>\n",
              "    </tr>\n",
              "    <tr>\n",
              "      <th>4</th>\n",
              "      <td>s5</td>\n",
              "      <td>TV Show</td>\n",
              "      <td>Kota Factory</td>\n",
              "      <td>No Data</td>\n",
              "      <td>Mayur More, Jitendra Kumar, Ranjan Raj, Alam K...</td>\n",
              "      <td>India</td>\n",
              "      <td>2021-09-24</td>\n",
              "      <td>2021</td>\n",
              "      <td>TV-MA</td>\n",
              "      <td>2 Seasons</td>\n",
              "      <td>International TV Shows, Romantic TV Shows, TV ...</td>\n",
              "      <td>2021</td>\n",
              "    </tr>\n",
              "  </tbody>\n",
              "</table>\n",
              "</div>"
            ],
            "text/plain": [
              "  show_id     type                  title         director  \\\n",
              "0      s1    Movie   Dick Johnson Is Dead  Kirsten Johnson   \n",
              "1      s2  TV Show          Blood & Water          No Data   \n",
              "2      s3  TV Show              Ganglands  Julien Leclercq   \n",
              "3      s4  TV Show  Jailbirds New Orleans          No Data   \n",
              "4      s5  TV Show           Kota Factory          No Data   \n",
              "\n",
              "                                                cast        country  \\\n",
              "0                                            No Data  United States   \n",
              "1  Ama Qamata, Khosi Ngema, Gail Mabalane, Thaban...   South Africa   \n",
              "2  Sami Bouajila, Tracy Gotoas, Samuel Jouy, Nabi...  United States   \n",
              "3                                            No Data  United States   \n",
              "4  Mayur More, Jitendra Kumar, Ranjan Raj, Alam K...          India   \n",
              "\n",
              "  date_added  release_year rating   duration  \\\n",
              "0 2021-09-25          2020  PG-13     90 min   \n",
              "1 2021-09-24          2021  TV-MA  2 Seasons   \n",
              "2 2021-09-24          2021  TV-MA   1 Season   \n",
              "3 2021-09-24          2021  TV-MA   1 Season   \n",
              "4 2021-09-24          2021  TV-MA  2 Seasons   \n",
              "\n",
              "                                           listed_in  year_added  \n",
              "0                                      Documentaries        2021  \n",
              "1    International TV Shows, TV Dramas, TV Mysteries        2021  \n",
              "2  Crime TV Shows, International TV Shows, TV Act...        2021  \n",
              "3                             Docuseries, Reality TV        2021  \n",
              "4  International TV Shows, Romantic TV Shows, TV ...        2021  "
            ]
          },
          "execution_count": 32,
          "metadata": {},
          "output_type": "execute_result"
        }
      ],
      "source": [
        "data.head()"
      ]
    },
    {
      "cell_type": "code",
      "execution_count": 33,
      "metadata": {
        "colab": {
          "base_uri": "https://localhost:8080/",
          "height": 279
        },
        "id": "xv5tuKQVQI26",
        "outputId": "f8ef07ae-5995-4798-c803-117c8c52a20f"
      },
      "outputs": [
        {
          "data": {
            "image/png": "[encoded data removed]",
            "text/plain": [
              "<Figure size 640x480 with 1 Axes>"
            ]
          },
          "metadata": {},
          "output_type": "display_data"
        }
      ],
      "source": [
        "sns.countplot(x='type', data=data)\n",
        "plt.show()"
      ]
    },
    {
      "cell_type": "code",
      "execution_count": 35,
      "metadata": {
        "colab": {
          "base_uri": "https://localhost:8080/",
          "height": 351
        },
        "id": "jwAEt4oHQNMw",
        "outputId": "bbed5de2-e558-461e-8623-8f08ec5fbcd4"
      },
      "outputs": [
        {
          "data": {
            "image/png": "[encoded data removed]",
            "text/plain": [
              "<Figure size 1600x500 with 1 Axes>"
            ]
          },
          "metadata": {},
          "output_type": "display_data"
        }
      ],
      "source": [
        "type_year = (data.groupby(['type','year_added'])['title'].size()).reset_index()\n",
        "fig = plt.figure(figsize=(16,5))\n",
        "sns.lineplot(data = type_year,x = 'year_added',y = 'title',hue = 'type',style = 'type',palette='magma_r',markers=True, dashes=False)\n",
        "plt.title(\"Total content across the years\")\n",
        "plt.show()"
      ]
    },
    {
      "cell_type": "code",
      "execution_count": 36,
      "metadata": {
        "id": "gGBH26Z_ToVg"
      },
      "outputs": [],
      "source": [
        "le = LabelEncoder()\n",
        "data = data.apply(LabelEncoder().fit_transform)"
      ]
    },
    {
      "cell_type": "code",
      "execution_count": 37,
      "metadata": {
        "colab": {
          "base_uri": "https://localhost:8080/",
          "height": 423
        },
        "id": "kZ0mfsQrToRH",
        "outputId": "9e7249f1-3789-48d5-8eee-c65ad393b420"
      },
      "outputs": [
        {
          "data": {
            "text/html": [
              "<div>\n",
              "<style scoped>\n",
              "    .dataframe tbody tr th:only-of-type {\n",
              "        vertical-align: middle;\n",
              "    }\n",
              "\n",
              "    .dataframe tbody tr th {\n",
              "        vertical-align: top;\n",
              "    }\n",
              "\n",
              "    .dataframe thead th {\n",
              "        text-align: right;\n",
              "    }\n",
              "</style>\n",
              "<table border=\"1\" class=\"dataframe\">\n",
              "  <thead>\n",
              "    <tr style=\"text-align: right;\">\n",
              "      <th></th>\n",
              "      <th>show_id</th>\n",
              "      <th>type</th>\n",
              "      <th>title</th>\n",
              "      <th>director</th>\n",
              "      <th>cast</th>\n",
              "      <th>country</th>\n",
              "      <th>date_added</th>\n",
              "      <th>release_year</th>\n",
              "      <th>rating</th>\n",
              "      <th>duration</th>\n",
              "      <th>listed_in</th>\n",
              "      <th>year_added</th>\n",
              "    </tr>\n",
              "  </thead>\n",
              "  <tbody>\n",
              "    <tr>\n",
              "      <th>0</th>\n",
              "      <td>0</td>\n",
              "      <td>0</td>\n",
              "      <td>1972</td>\n",
              "      <td>2294</td>\n",
              "      <td>5351</td>\n",
              "      <td>603</td>\n",
              "      <td>1712</td>\n",
              "      <td>72</td>\n",
              "      <td>4</td>\n",
              "      <td>210</td>\n",
              "      <td>273</td>\n",
              "      <td>13</td>\n",
              "    </tr>\n",
              "    <tr>\n",
              "      <th>1</th>\n",
              "      <td>1111</td>\n",
              "      <td>1</td>\n",
              "      <td>1088</td>\n",
              "      <td>3049</td>\n",
              "      <td>409</td>\n",
              "      <td>426</td>\n",
              "      <td>1711</td>\n",
              "      <td>73</td>\n",
              "      <td>8</td>\n",
              "      <td>110</td>\n",
              "      <td>413</td>\n",
              "      <td>13</td>\n",
              "    </tr>\n",
              "    <tr>\n",
              "      <th>2</th>\n",
              "      <td>2222</td>\n",
              "      <td>1</td>\n",
              "      <td>2646</td>\n",
              "      <td>2104</td>\n",
              "      <td>6284</td>\n",
              "      <td>603</td>\n",
              "      <td>1711</td>\n",
              "      <td>73</td>\n",
              "      <td>8</td>\n",
              "      <td>0</td>\n",
              "      <td>241</td>\n",
              "      <td>13</td>\n",
              "    </tr>\n",
              "    <tr>\n",
              "      <th>3</th>\n",
              "      <td>3333</td>\n",
              "      <td>1</td>\n",
              "      <td>3499</td>\n",
              "      <td>3049</td>\n",
              "      <td>5351</td>\n",
              "      <td>603</td>\n",
              "      <td>1711</td>\n",
              "      <td>73</td>\n",
              "      <td>8</td>\n",
              "      <td>0</td>\n",
              "      <td>296</td>\n",
              "      <td>13</td>\n",
              "    </tr>\n",
              "    <tr>\n",
              "      <th>4</th>\n",
              "      <td>4444</td>\n",
              "      <td>1</td>\n",
              "      <td>3853</td>\n",
              "      <td>3049</td>\n",
              "      <td>4802</td>\n",
              "      <td>251</td>\n",
              "      <td>1711</td>\n",
              "      <td>73</td>\n",
              "      <td>8</td>\n",
              "      <td>110</td>\n",
              "      <td>392</td>\n",
              "      <td>13</td>\n",
              "    </tr>\n",
              "    <tr>\n",
              "      <th>...</th>\n",
              "      <td>...</td>\n",
              "      <td>...</td>\n",
              "      <td>...</td>\n",
              "      <td>...</td>\n",
              "      <td>...</td>\n",
              "      <td>...</td>\n",
              "      <td>...</td>\n",
              "      <td>...</td>\n",
              "      <td>...</td>\n",
              "      <td>...</td>\n",
              "      <td>...</td>\n",
              "      <td>...</td>\n",
              "    </tr>\n",
              "    <tr>\n",
              "      <th>8802</th>\n",
              "      <td>8654</td>\n",
              "      <td>0</td>\n",
              "      <td>8753</td>\n",
              "      <td>978</td>\n",
              "      <td>4664</td>\n",
              "      <td>603</td>\n",
              "      <td>1107</td>\n",
              "      <td>59</td>\n",
              "      <td>5</td>\n",
              "      <td>70</td>\n",
              "      <td>268</td>\n",
              "      <td>11</td>\n",
              "    </tr>\n",
              "    <tr>\n",
              "      <th>8803</th>\n",
              "      <td>8655</td>\n",
              "      <td>1</td>\n",
              "      <td>8756</td>\n",
              "      <td>3049</td>\n",
              "      <td>5351</td>\n",
              "      <td>603</td>\n",
              "      <td>986</td>\n",
              "      <td>70</td>\n",
              "      <td>11</td>\n",
              "      <td>110</td>\n",
              "      <td>423</td>\n",
              "      <td>11</td>\n",
              "    </tr>\n",
              "    <tr>\n",
              "      <th>8804</th>\n",
              "      <td>8656</td>\n",
              "      <td>0</td>\n",
              "      <td>8757</td>\n",
              "      <td>3630</td>\n",
              "      <td>3224</td>\n",
              "      <td>603</td>\n",
              "      <td>1091</td>\n",
              "      <td>61</td>\n",
              "      <td>5</td>\n",
              "      <td>206</td>\n",
              "      <td>206</td>\n",
              "      <td>11</td>\n",
              "    </tr>\n",
              "    <tr>\n",
              "      <th>8805</th>\n",
              "      <td>8657</td>\n",
              "      <td>0</td>\n",
              "      <td>8760</td>\n",
              "      <td>3246</td>\n",
              "      <td>7049</td>\n",
              "      <td>603</td>\n",
              "      <td>1154</td>\n",
              "      <td>58</td>\n",
              "      <td>3</td>\n",
              "      <td>206</td>\n",
              "      <td>124</td>\n",
              "      <td>12</td>\n",
              "    </tr>\n",
              "    <tr>\n",
              "      <th>8806</th>\n",
              "      <td>8658</td>\n",
              "      <td>0</td>\n",
              "      <td>8764</td>\n",
              "      <td>2924</td>\n",
              "      <td>7285</td>\n",
              "      <td>251</td>\n",
              "      <td>869</td>\n",
              "      <td>67</td>\n",
              "      <td>6</td>\n",
              "      <td>16</td>\n",
              "      <td>327</td>\n",
              "      <td>11</td>\n",
              "    </tr>\n",
              "  </tbody>\n",
              "</table>\n",
              "<p>8790 rows × 12 columns</p>\n",
              "</div>"
            ],
            "text/plain": [
              "      show_id  type  title  director  cast  country  date_added  release_year  \\\n",
              "0           0     0   1972      2294  5351      603        1712            72   \n",
              "1        1111     1   1088      3049   409      426        1711            73   \n",
              "2        2222     1   2646      2104  6284      603        1711            73   \n",
              "3        3333     1   3499      3049  5351      603        1711            73   \n",
              "4        4444     1   3853      3049  4802      251        1711            73   \n",
              "...       ...   ...    ...       ...   ...      ...         ...           ...   \n",
              "8802     8654     0   8753       978  4664      603        1107            59   \n",
              "8803     8655     1   8756      3049  5351      603         986            70   \n",
              "8804     8656     0   8757      3630  3224      603        1091            61   \n",
              "8805     8657     0   8760      3246  7049      603        1154            58   \n",
              "8806     8658     0   8764      2924  7285      251         869            67   \n",
              "\n",
              "      rating  duration  listed_in  year_added  \n",
              "0          4       210        273          13  \n",
              "1          8       110        413          13  \n",
              "2          8         0        241          13  \n",
              "3          8         0        296          13  \n",
              "4          8       110        392          13  \n",
              "...      ...       ...        ...         ...  \n",
              "8802       5        70        268          11  \n",
              "8803      11       110        423          11  \n",
              "8804       5       206        206          11  \n",
              "8805       3       206        124          12  \n",
              "8806       6        16        327          11  \n",
              "\n",
              "[8790 rows x 12 columns]"
            ]
          },
          "execution_count": 37,
          "metadata": {},
          "output_type": "execute_result"
        }
      ],
      "source": [
        "data"
      ]
    },
    {
      "cell_type": "code",
      "execution_count": 38,
      "metadata": {
        "id": "jSTmxDiFRDTL"
      },
      "outputs": [],
      "source": [
        "X = data.drop(columns = ['type'])\n",
        "y = data['type']"
      ]
    },
    {
      "cell_type": "code",
      "execution_count": 39,
      "metadata": {
        "id": "noAZmkR-SveJ"
      },
      "outputs": [],
      "source": [
        "from sklearn import preprocessing\n",
        "scaler = preprocessing.StandardScaler().fit(X)"
      ]
    },
    {
      "cell_type": "code",
      "execution_count": 40,
      "metadata": {
        "colab": {
          "base_uri": "https://localhost:8080/"
        },
        "id": "_WY-2g28VAHI",
        "outputId": "50fd8d39-1cd4-4060-c829-5921ebbb168c"
      },
      "outputs": [
        {
          "data": {
            "text/plain": [
              "array([[-1.73185377, -0.95469695, -0.20971444, ...,  1.31834824,\n",
              "         0.01008469,  1.35139698],\n",
              "       [-1.29401339, -1.3030776 ,  0.44929593, ...,  0.18439787,\n",
              "         1.07744648,  1.35139698],\n",
              "       [-0.85617302, -0.68907642, -0.3755581 , ..., -1.06294753,\n",
              "        -0.23388372,  1.35139698],\n",
              "       ...,\n",
              "       [ 1.67943904,  1.71924271,  0.9564284 , ...,  1.27299023,\n",
              "        -0.50072417,  0.08032754],\n",
              "       [ 1.67983313,  1.72042499,  0.62124962, ...,  1.27299023,\n",
              "        -1.12589322,  0.71586226],\n",
              "       [ 1.68022723,  1.72200138,  0.34018825, ..., -0.88151547,\n",
              "         0.42178138,  0.08032754]])"
            ]
          },
          "execution_count": 40,
          "metadata": {},
          "output_type": "execute_result"
        }
      ],
      "source": [
        "X_scaled = scaler.transform(X)\n",
        "X_scaled"
      ]
    },
    {
      "cell_type": "code",
      "execution_count": 41,
      "metadata": {
        "id": "oR41ogxvVyX_"
      },
      "outputs": [],
      "source": [
        "X_train,X_test,y_train,y_test=train_test_split(X_scaled,y,test_size=0.25,random_state=0)"
      ]
    },
    {
      "cell_type": "markdown",
      "metadata": {
        "id": "h_epu6OE68ob"
      },
      "source": [
        "# LogisticRegression"
      ]
    },
    {
      "cell_type": "code",
      "execution_count": 42,
      "metadata": {
        "colab": {
          "base_uri": "https://localhost:8080/"
        },
        "id": "7xCvmedM63qS",
        "outputId": "024d37d9-7744-47f8-fa87-4c6177d24979"
      },
      "outputs": [
        {
          "name": "stdout",
          "output_type": "stream",
          "text": [
            "[0 1 0 ... 0 1 0]\n"
          ]
        }
      ],
      "source": [
        "from sklearn.linear_model import LogisticRegression\n",
        "logreg = LogisticRegression()\n",
        "lr = logreg.fit(X_train,y_train)\n",
        "y_pred=logreg.predict(X_test)\n",
        "print(y_pred)"
      ]
    },
    {
      "cell_type": "code",
      "execution_count": 43,
      "metadata": {
        "colab": {
          "base_uri": "https://localhost:8080/"
        },
        "id": "zcfk83JC63hi",
        "outputId": "7eb1d41e-facb-4431-bd41-0d3a779402fd"
      },
      "outputs": [
        {
          "name": "stdout",
          "output_type": "stream",
          "text": [
            "Accuracy: 0.8230209281164695\n",
            "\n",
            "Confusion Matrix:\n",
            " [[1380  157]\n",
            " [ 232  429]]\n",
            "\n",
            "Classification Report:\n",
            "               precision    recall  f1-score   support\n",
            "\n",
            "           0       0.86      0.90      0.88      1537\n",
            "           1       0.73      0.65      0.69       661\n",
            "\n",
            "    accuracy                           0.82      2198\n",
            "   macro avg       0.79      0.77      0.78      2198\n",
            "weighted avg       0.82      0.82      0.82      2198\n",
            "\n"
          ]
        }
      ],
      "source": [
        "print(\"Accuracy:\", accuracy_score(y_test, y_pred))\n",
        "print(\"\\nConfusion Matrix:\\n\", confusion_matrix(y_test, y_pred))\n",
        "print(\"\\nClassification Report:\\n\", classification_report(y_test, y_pred))"
      ]
    },
    {
      "cell_type": "code",
      "execution_count": 44,
      "metadata": {
        "colab": {
          "base_uri": "https://localhost:8080/"
        },
        "id": "SdiDdseCdtHN",
        "outputId": "c704d829-82b1-43d5-c40e-b031136bd74b"
      },
      "outputs": [
        {
          "name": "stdout",
          "output_type": "stream",
          "text": [
            "[0 0 0 ... 0 1 0]\n"
          ]
        }
      ],
      "source": [
        "y_pred=logreg.predict(X_train)\n",
        "print(y_pred)"
      ]
    },
    {
      "cell_type": "code",
      "execution_count": 45,
      "metadata": {
        "colab": {
          "base_uri": "https://localhost:8080/"
        },
        "id": "CyvIrgCOds-F",
        "outputId": "bdb8f5b9-888b-4f1d-9508-002550c2f0d0"
      },
      "outputs": [
        {
          "name": "stdout",
          "output_type": "stream",
          "text": [
            "Accuracy: 0.8155339805825242\n",
            "\n",
            "Confusion Matrix:\n",
            " [[4086  503]\n",
            " [ 713 1290]]\n",
            "\n",
            "Classification Report:\n",
            "               precision    recall  f1-score   support\n",
            "\n",
            "           0       0.85      0.89      0.87      4589\n",
            "           1       0.72      0.64      0.68      2003\n",
            "\n",
            "    accuracy                           0.82      6592\n",
            "   macro avg       0.79      0.77      0.78      6592\n",
            "weighted avg       0.81      0.82      0.81      6592\n",
            "\n"
          ]
        }
      ],
      "source": [
        "print(\"Accuracy:\", accuracy_score(y_train, y_pred))\n",
        "print(\"\\nConfusion Matrix:\\n\", confusion_matrix(y_train, y_pred))\n",
        "print(\"\\nClassification Report:\\n\", classification_report(y_train, y_pred))"
      ]
    },
    {
      "cell_type": "markdown",
      "metadata": {
        "id": "fYT97aCv_ASM"
      },
      "source": [
        "#Decision Tree"
      ]
    },
    {
      "cell_type": "code",
      "execution_count": 46,
      "metadata": {
        "id": "_ZSyVaQB-T2M"
      },
      "outputs": [],
      "source": [
        "from sklearn.tree import DecisionTreeClassifier\n"
      ]
    },
    {
      "cell_type": "code",
      "execution_count": 47,
      "metadata": {
        "id": "L7VEF1NT-Tyd"
      },
      "outputs": [],
      "source": [
        "clf = DecisionTreeClassifier()\n",
        "clf.fit(X_train, y_train)\n",
        "y_pred = clf.predict(X_test)\n",
        "accuracy = clf.score(X_test, y_test)"
      ]
    },
    {
      "cell_type": "code",
      "execution_count": 48,
      "metadata": {
        "colab": {
          "base_uri": "https://localhost:8080/"
        },
        "id": "MIYnAg6z-Tn5",
        "outputId": "a630f879-ef26-432d-a07f-d5c9f0051f25"
      },
      "outputs": [
        {
          "name": "stdout",
          "output_type": "stream",
          "text": [
            "Accuracy: 0.9904458598726115\n",
            "\n",
            "Confusion Matrix:\n",
            " [[1526   11]\n",
            " [  10  651]]\n",
            "\n",
            "Classification Report:\n",
            "               precision    recall  f1-score   support\n",
            "\n",
            "           0       0.99      0.99      0.99      1537\n",
            "           1       0.98      0.98      0.98       661\n",
            "\n",
            "    accuracy                           0.99      2198\n",
            "   macro avg       0.99      0.99      0.99      2198\n",
            "weighted avg       0.99      0.99      0.99      2198\n",
            "\n"
          ]
        }
      ],
      "source": [
        "print(\"Accuracy:\", accuracy_score(y_test, y_pred))\n",
        "print(\"\\nConfusion Matrix:\\n\", confusion_matrix(y_test, y_pred))\n",
        "print(\"\\nClassification Report:\\n\", classification_report(y_test, y_pred))"
      ]
    },
    {
      "cell_type": "code",
      "execution_count": 49,
      "metadata": {
        "id": "c-QpJpZ-d-1k"
      },
      "outputs": [],
      "source": [
        "y_pred = clf.predict(X_train)\n",
        "accuracy = clf.score(X_train, y_train)"
      ]
    },
    {
      "cell_type": "code",
      "execution_count": 50,
      "metadata": {
        "colab": {
          "base_uri": "https://localhost:8080/"
        },
        "id": "_Nt-o0VTd-vE",
        "outputId": "020fd753-db60-40e5-9f0b-1a994e8f4479"
      },
      "outputs": [
        {
          "name": "stdout",
          "output_type": "stream",
          "text": [
            "Accuracy: 1.0\n",
            "\n",
            "Confusion Matrix:\n",
            " [[4589    0]\n",
            " [   0 2003]]\n",
            "\n",
            "Classification Report:\n",
            "               precision    recall  f1-score   support\n",
            "\n",
            "           0       1.00      1.00      1.00      4589\n",
            "           1       1.00      1.00      1.00      2003\n",
            "\n",
            "    accuracy                           1.00      6592\n",
            "   macro avg       1.00      1.00      1.00      6592\n",
            "weighted avg       1.00      1.00      1.00      6592\n",
            "\n"
          ]
        }
      ],
      "source": [
        "print(\"Accuracy:\", accuracy_score(y_train, y_pred))\n",
        "print(\"\\nConfusion Matrix:\\n\", confusion_matrix(y_train, y_pred))\n",
        "print(\"\\nClassification Report:\\n\", classification_report(y_train, y_pred))"
      ]
    },
    {
      "cell_type": "markdown",
      "metadata": {
        "id": "uEuhfUopAIEQ"
      },
      "source": [
        "#Random Forest"
      ]
    },
    {
      "cell_type": "code",
      "execution_count": 51,
      "metadata": {
        "id": "QgGk-biiAISK"
      },
      "outputs": [],
      "source": [
        "from sklearn.ensemble import RandomForestClassifier"
      ]
    },
    {
      "cell_type": "code",
      "execution_count": 52,
      "metadata": {
        "id": "b80kkovEAI7Y"
      },
      "outputs": [],
      "source": [
        "rf = RandomForestClassifier(n_estimators=10, criterion='entropy')\n",
        "rf.fit(X_train,y_train)\n",
        "y_rf_pred = rf.predict(X_test)\n"
      ]
    },
    {
      "cell_type": "code",
      "execution_count": 53,
      "metadata": {
        "colab": {
          "base_uri": "https://localhost:8080/"
        },
        "id": "WFMg8BUXAIxJ",
        "outputId": "7ec93da2-9332-4e44-e597-75ee9bd65066"
      },
      "outputs": [
        {
          "name": "stdout",
          "output_type": "stream",
          "text": [
            "Accuracy: 0.9913557779799818\n",
            "\n",
            "Confusion Matrix:\n",
            " [[1534    3]\n",
            " [  16  645]]\n",
            "\n",
            "Classification Report:\n",
            "               precision    recall  f1-score   support\n",
            "\n",
            "           0       0.99      1.00      0.99      1537\n",
            "           1       1.00      0.98      0.99       661\n",
            "\n",
            "    accuracy                           0.99      2198\n",
            "   macro avg       0.99      0.99      0.99      2198\n",
            "weighted avg       0.99      0.99      0.99      2198\n",
            "\n"
          ]
        }
      ],
      "source": [
        "print(\"Accuracy:\", accuracy_score(y_test, y_rf_pred))\n",
        "print(\"\\nConfusion Matrix:\\n\", confusion_matrix(y_test, y_rf_pred))\n",
        "print(\"\\nClassification Report:\\n\", classification_report(y_test, y_rf_pred))"
      ]
    },
    {
      "cell_type": "code",
      "execution_count": 54,
      "metadata": {
        "id": "bSZvuGOQecDj"
      },
      "outputs": [],
      "source": [
        "y_rf_pred = rf.predict(X_train)"
      ]
    },
    {
      "cell_type": "code",
      "execution_count": 55,
      "metadata": {
        "colab": {
          "base_uri": "https://localhost:8080/"
        },
        "id": "ZCpDKJsRecA0",
        "outputId": "d7cca3fd-3d54-4a06-c8b5-08c11ac547d2"
      },
      "outputs": [
        {
          "name": "stdout",
          "output_type": "stream",
          "text": [
            "Accuracy: 0.9995449029126213\n",
            "\n",
            "Confusion Matrix:\n",
            " [[4589    0]\n",
            " [   3 2000]]\n",
            "\n",
            "Classification Report:\n",
            "               precision    recall  f1-score   support\n",
            "\n",
            "           0       1.00      1.00      1.00      4589\n",
            "           1       1.00      1.00      1.00      2003\n",
            "\n",
            "    accuracy                           1.00      6592\n",
            "   macro avg       1.00      1.00      1.00      6592\n",
            "weighted avg       1.00      1.00      1.00      6592\n",
            "\n"
          ]
        }
      ],
      "source": [
        "print(\"Accuracy:\", accuracy_score(y_train, y_rf_pred))\n",
        "print(\"\\nConfusion Matrix:\\n\", confusion_matrix(y_train, y_rf_pred))\n",
        "print(\"\\nClassification Report:\\n\", classification_report(y_train, y_rf_pred))"
      ]
    },
    {
      "cell_type": "markdown",
      "metadata": {
        "id": "jYxoZMfzCzYW"
      },
      "source": [
        "#Naive Bayes\n"
      ]
    },
    {
      "cell_type": "code",
      "execution_count": 56,
      "metadata": {
        "id": "fWmzYJI7C5CB"
      },
      "outputs": [],
      "source": [
        "from sklearn.naive_bayes import GaussianNB"
      ]
    },
    {
      "cell_type": "code",
      "execution_count": 57,
      "metadata": {
        "id": "LGrgOhf0C4_Q"
      },
      "outputs": [],
      "source": [
        "gnb = GaussianNB()\n",
        "gnb.fit(X_train, y_train)\n",
        "y_pred = gnb.predict(X_test)"
      ]
    },
    {
      "cell_type": "code",
      "execution_count": 58,
      "metadata": {
        "colab": {
          "base_uri": "https://localhost:8080/"
        },
        "id": "IycuLjqSC48R",
        "outputId": "1f54bf6b-60cd-4300-9883-d31834817520"
      },
      "outputs": [
        {
          "name": "stdout",
          "output_type": "stream",
          "text": [
            "Accuracy: 0.8553230209281165\n",
            "\n",
            "Confusion Matrix:\n",
            " [[1307  230]\n",
            " [  88  573]]\n",
            "\n",
            "Classification Report:\n",
            "               precision    recall  f1-score   support\n",
            "\n",
            "           0       0.94      0.85      0.89      1537\n",
            "           1       0.71      0.87      0.78       661\n",
            "\n",
            "    accuracy                           0.86      2198\n",
            "   macro avg       0.83      0.86      0.84      2198\n",
            "weighted avg       0.87      0.86      0.86      2198\n",
            "\n"
          ]
        }
      ],
      "source": [
        "print(\"Accuracy:\", accuracy_score(y_test, y_pred))\n",
        "print(\"\\nConfusion Matrix:\\n\", confusion_matrix(y_test, y_pred))\n",
        "print(\"\\nClassification Report:\\n\", classification_report(y_test, y_pred))"
      ]
    },
    {
      "cell_type": "code",
      "execution_count": 59,
      "metadata": {
        "id": "B92Ama4zemE8"
      },
      "outputs": [],
      "source": [
        "y_pred = gnb.predict(X_train)"
      ]
    },
    {
      "cell_type": "code",
      "execution_count": 60,
      "metadata": {
        "colab": {
          "base_uri": "https://localhost:8080/"
        },
        "id": "eYfj78xeemnE",
        "outputId": "86b84a6a-cc45-452d-f1cc-93cc575d48f5"
      },
      "outputs": [
        {
          "name": "stdout",
          "output_type": "stream",
          "text": [
            "Accuracy: 0.8633191747572816\n",
            "\n",
            "Confusion Matrix:\n",
            " [[3961  628]\n",
            " [ 273 1730]]\n",
            "\n",
            "Classification Report:\n",
            "               precision    recall  f1-score   support\n",
            "\n",
            "           0       0.94      0.86      0.90      4589\n",
            "           1       0.73      0.86      0.79      2003\n",
            "\n",
            "    accuracy                           0.86      6592\n",
            "   macro avg       0.83      0.86      0.85      6592\n",
            "weighted avg       0.87      0.86      0.87      6592\n",
            "\n"
          ]
        }
      ],
      "source": [
        "print(\"Accuracy:\", accuracy_score(y_train, y_pred))\n",
        "print(\"\\nConfusion Matrix:\\n\", confusion_matrix(y_train, y_pred))\n",
        "print(\"\\nClassification Report:\\n\", classification_report(y_train, y_pred))"
      ]
    }
  ],
  "metadata": {
    "colab": {
      "collapsed_sections": [
        "h_epu6OE68ob",
        "fYT97aCv_ASM",
        "jYxoZMfzCzYW"
      ],
      "provenance": []
    },
    "kernelspec": {
      "display_name": "Python 3",
      "name": "python3"
    },
    "language_info": {
      "codemirror_mode": {
        "name": "ipython",
        "version": 3
      },
      "file_extension": ".py",
      "mimetype": "text/x-python",
      "name": "python",
      "nbconvert_exporter": "python",
      "pygments_lexer": "ipython3",
      "version": "3.11.3"
    }
  },
  "nbformat": 4,
  "nbformat_minor": 0
}
